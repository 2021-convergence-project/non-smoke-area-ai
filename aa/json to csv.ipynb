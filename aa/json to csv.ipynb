{
 "cells": [
  {
   "cell_type": "code",
   "execution_count": 49,
   "id": "41bce5f5",
   "metadata": {},
   "outputs": [
    {
     "ename": "SyntaxError",
     "evalue": "invalid syntax (174972241.py, line 54)",
     "output_type": "error",
     "traceback": [
      "\u001b[0;36m  File \u001b[0;32m\"/tmp/ipykernel_3438/174972241.py\"\u001b[0;36m, line \u001b[0;32m54\u001b[0m\n\u001b[0;31m    self.output_dic[filename]j = i['keypoints']\u001b[0m\n\u001b[0m                             ^\u001b[0m\n\u001b[0;31mSyntaxError\u001b[0m\u001b[0;31m:\u001b[0m invalid syntax\n"
     ]
    }
   ],
   "source": [
    "import os\n",
    "import glob\n",
    "import json\n",
    "import csv\n",
    "\n",
    "class FindID :\n",
    "    def __init__(self, path):\n",
    "        self.path = path       #폴더들 주소\n",
    "        self.json_list = []    #폴더들에서 json파일만 뽑아서 저장\n",
    "        self.file_dic = {}     #모든 폴더와 폴더경로안의 파일들을 정리해놓은 사전.\n",
    "        self.output_dic = {}   #마지막 출력을 위해서 key->json파일이름, value->각각의ID를 저장시킬거임. \n",
    "\n",
    "        self.add_files(path)   #file_dic사전만들기 시작\n",
    "        self.creat_output()    #출력할 내용을 정리하는 output_dic에 값을 넣어주는 함수.\n",
    "\n",
    "    def my_list(self, file_path):\n",
    "        '''\n",
    "            폴더안의 파일들을 리스트로 정리해서 return 해준다.\n",
    "            glob함수는 폴더경로를 이용해 그안에 있는 모든 파일을 출력해준다.\n",
    "        '''\n",
    "        file_list = glob.glob(file_path + \"/*\")\n",
    "        return file_list\n",
    "    \n",
    "    def check_json(self, file_name):\n",
    "        '''\n",
    "            만약 json파일까지 도달했다면(파일이름이 .json으로 끝난다면), 그 json파일은 json_list에 저장하고,\n",
    "            아직 폴더가 남았다면, 다시 add_files()를 호출해서 file_dic사전에 추가정리. \n",
    "        '''\n",
    "        if(self.file_dic[file_name][0].endswith(\".json\")):\n",
    "            self.json_list.extend(self.file_dic[file_name])\n",
    "        else:\n",
    "            for name in self.file_dic[file_name]:\n",
    "                self.add_files(name)\n",
    "\n",
    "    def add_files(self, file_path):\n",
    "        '''\n",
    "            main함수\n",
    "            my_list로 폴더안의 파일리스트를 받아서 file_dic에 저장.\n",
    "            그리고 json 파일까지 도달했는지 체크한다.\n",
    "        '''\n",
    "        self.file_dic[file_path] = self.my_list(file_path)\n",
    "        self.check_json(file_path)\n",
    "\n",
    "    def creat_output(self):\n",
    "        '''\n",
    "            이제 다 뽑아낸 json_list(시리얼넘버)들로 각각의 json파일안의 'annotations'의 value값을 뽑아,\n",
    "            output_dic사전에 저장한다. \n",
    "        '''\n",
    "        for filename in self.json_list:\n",
    "            with open(filename, 'r',) as file:\n",
    "                json_data = json.load(file)\n",
    "            for i in json_data['annotations']:\n",
    "                self.output_dic[filename] = i['keypoints']\n",
    "#             self.output_dic[filename] = json_data['annotations'][3]['keypoints']\n",
    "if __name__ == \"__main__\":\n",
    "    folder_name = input(\"input folder address : \")\n",
    "    \n",
    "    #파이썬 파일과 폴더가 동일할 때는 이 코드를 씀.\n",
    "    #folder_name = \"./\" + folder_name\n",
    "\n",
    "    folder = FindID(folder_name)\n",
    "\n",
    "    '''\n",
    "        output_dic(키:json파일경로, 발류: ID값)사전에 있는 값을 csv에 옯겨적는다.\n",
    "        시리얼넘버는 키값인 json파일경로에서 뽑아냈다. -> key.split(\"/\")[-1][:-8]\n",
    "    '''\n",
    "    with open('output.csv','w', newline='') as csvfile :\n",
    "        writer = csv.writer(csvfile)\n",
    "\n",
    "        writer.writerow(['ID', 'Time', 'Keypoints'])\n",
    "        for key, val in folder.output_dic.items():\n",
    "            writer.writerow([key, key.split(\"/\")[-1][:-8], val])"
   ]
  }
 ],
 "metadata": {
  "kernelspec": {
   "display_name": "Python [conda env:data_env23_1] *",
   "language": "python",
   "name": "conda-env-data_env23_1-py"
  },
  "language_info": {
   "codemirror_mode": {
    "name": "ipython",
    "version": 3
   },
   "file_extension": ".py",
   "mimetype": "text/x-python",
   "name": "python",
   "nbconvert_exporter": "python",
   "pygments_lexer": "ipython3",
   "version": "3.7.0"
  }
 },
 "nbformat": 4,
 "nbformat_minor": 5
}
