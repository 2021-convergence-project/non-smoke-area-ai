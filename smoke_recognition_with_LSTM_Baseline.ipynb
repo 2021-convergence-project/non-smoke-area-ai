{
 "cells": [
  {
   "cell_type": "code",
   "execution_count": null,
   "id": "a70bc4e1",
   "metadata": {},
   "outputs": [],
   "source": [
    "# 목표: DACON Baseline 코드를 이용해 LSTM을 활용한 학습 진행\n",
    "\n",
    "import pandas as pd\n",
    "\n",
    "import json\n",
    "import numpy as np\n",
    "\n",
    "import io\n",
    "\n",
    "\n",
    "import os\n",
    "import matplotlib.image as img\n",
    "import matplotlib.pyplot as plt"
   ]
  },
  {
   "cell_type": "code",
   "execution_count": 30,
   "id": "f31f62ae",
   "metadata": {
    "scrolled": true
   },
   "outputs": [
    {
     "name": "stdout",
     "output_type": "stream",
     "text": [
      "                                            Keypoints\n",
      "0   [960.0, 585.0, 2.0, 969.0, 519.0, 2.0, 994.0, ...\n",
      "1   [1252.0, 664.0, 2.0, 1256.0, 597.0, 2.0, 1284....\n",
      "2   [928.0, 654.0, 2.0, 944.0, 592.0, 2.0, 961.0, ...\n",
      "3   [847.0, 821.0, 2.0, 887.0, 710.0, 2.0, 848.0, ...\n",
      "4   [782.0, 502.0, 2.0, 810.0, 434.0, 2.0, 819.0, ...\n",
      "..                                                ...\n",
      "91  [1208.0, 672.0, 2.0, 1212.0, 582.0, 2.0, 1211....\n",
      "92  [1086.0, 628.0, 2.0, 1075.0, 574.0, 2.0, 1069....\n",
      "93  [786.0, 613.0, 2.0, 731.5, 551.0, 2.0, 746.0, ...\n",
      "94  [756.0, 635.0, 2.0, 737.0, 581.0, 2.0, 721.0, ...\n",
      "95  [830.0, 863.0, 2.0, 834.0, 769.0, 2.0, 812.0, ...\n",
      "\n",
      "[96 rows x 1 columns]\n",
      "<class 'pandas.core.frame.DataFrame'>\n",
      "[960.0, 585.0, 2.0, 969.0, 519.0, 2.0, 994.0, 455.0, 2.0, 994.0, 459.0, 2.0, 994.0, 525.0, 2.0, 1035.0, 594.0, 2.0, 994.0, 459.0, 2.0, 992.0, 407.0, 2.0, 991.0, 373.0, 2.0, 985.0, 317.0, 2.0, 972.0, 411.0, 2.0, 988.0, 418.0, 2.0, 997.0, 380.0, 2.0, 988.0, 377.0, 2.0, 978.0, 414.0, 2.0, 960.0, 411.0, 2.0]\n",
      "<class 'str'>\n",
      "['960.0' ' 585.0' ' 2.0' ' 969.0' ' 519.0' ' 2.0' ' 994.0' ' 455.0' ' 2.0'\n",
      " ' 994.0' ' 459.0' ' 2.0' ' 994.0' ' 525.0' ' 2.0' ' 1035.0' ' 594.0'\n",
      " ' 2.0' ' 994.0' ' 459.0' ' 2.0' ' 992.0' ' 407.0' ' 2.0' ' 991.0'\n",
      " ' 373.0' ' 2.0' ' 985.0' ' 317.0' ' 2.0' ' 972.0' ' 411.0' ' 2.0'\n",
      " ' 988.0' ' 418.0' ' 2.0' ' 997.0' ' 380.0' ' 2.0' ' 988.0' ' 377.0'\n",
      " ' 2.0' ' 978.0' ' 414.0' ' 2.0' ' 960.0' ' 411.0' ' 2.0']\n",
      "nd_array\n",
      "[ 960.  585.    2.  969.  519.    2.  994.  455.    2.  994.  459.    2.\n",
      "  994.  525.    2. 1035.  594.    2.  994.  459.    2.  992.  407.    2.\n",
      "  991.  373.    2.  985.  317.    2.  972.  411.    2.  988.  418.    2.\n",
      "  997.  380.    2.  988.  377.    2.  978.  414.    2.  960.  411.    2.]\n",
      "[[ 960.  585.  969.  519.  994.  455.  994.  459.  994.  525. 1035.  594.\n",
      "   994.  459.  992.  407.  991.  373.  985.  317.  972.  411.  988.  418.\n",
      "   997.  380.  988.  377.  978.  414.  960.  411.]]\n",
      "(1, 32)\n"
     ]
    },
    {
     "ename": "ValueError",
     "evalue": "all the input arrays must have same number of dimensions, but the array at index 0 has 1 dimension(s) and the array at index 1 has 2 dimension(s)",
     "output_type": "error",
     "traceback": [
      "\u001b[0;31m---------------------------------------------------------------------------\u001b[0m",
      "\u001b[0;31mValueError\u001b[0m                                Traceback (most recent call last)",
      "\u001b[0;32m/tmp/ipykernel_4885/3898336001.py\u001b[0m in \u001b[0;36m<module>\u001b[0;34m\u001b[0m\n\u001b[1;32m     57\u001b[0m \u001b[0mkeypoint_arr\u001b[0m \u001b[0;34m=\u001b[0m \u001b[0mnp\u001b[0m\u001b[0;34m.\u001b[0m\u001b[0marray\u001b[0m\u001b[0;34m(\u001b[0m\u001b[0;34m[\u001b[0m\u001b[0;36m0\u001b[0m\u001b[0;34m]\u001b[0m\u001b[0;34m)\u001b[0m\u001b[0;34m\u001b[0m\u001b[0;34m\u001b[0m\u001b[0m\n\u001b[1;32m     58\u001b[0m \u001b[0;31m# keypoint_arr = keypoint_arr + result\u001b[0m\u001b[0;34m\u001b[0m\u001b[0;34m\u001b[0m\u001b[0;34m\u001b[0m\u001b[0m\n\u001b[0;32m---> 59\u001b[0;31m \u001b[0mkeypoint_arr\u001b[0m \u001b[0;34m=\u001b[0m \u001b[0mnp\u001b[0m\u001b[0;34m.\u001b[0m\u001b[0mappend\u001b[0m\u001b[0;34m(\u001b[0m\u001b[0mkeypoint_arr\u001b[0m\u001b[0;34m,\u001b[0m \u001b[0mresult\u001b[0m\u001b[0;34m,\u001b[0m \u001b[0maxis\u001b[0m\u001b[0;34m=\u001b[0m\u001b[0;36m0\u001b[0m\u001b[0;34m)\u001b[0m\u001b[0;34m\u001b[0m\u001b[0;34m\u001b[0m\u001b[0m\n\u001b[0m\u001b[1;32m     60\u001b[0m \u001b[0;31m# keypoint_arr = np.append(keypoint_arr, result, axis=0)\u001b[0m\u001b[0;34m\u001b[0m\u001b[0;34m\u001b[0m\u001b[0;34m\u001b[0m\u001b[0m\n\u001b[1;32m     61\u001b[0m \u001b[0mprint\u001b[0m\u001b[0;34m(\u001b[0m\u001b[0mkeypoint_arr\u001b[0m\u001b[0;34m)\u001b[0m\u001b[0;34m\u001b[0m\u001b[0;34m\u001b[0m\u001b[0m\n",
      "\u001b[0;32m<__array_function__ internals>\u001b[0m in \u001b[0;36mappend\u001b[0;34m(*args, **kwargs)\u001b[0m\n",
      "\u001b[0;32m/home/ubuntu/anaconda3/envs/data_env24/lib/python3.7/site-packages/numpy/lib/function_base.py\u001b[0m in \u001b[0;36mappend\u001b[0;34m(arr, values, axis)\u001b[0m\n\u001b[1;32m   4669\u001b[0m         \u001b[0mvalues\u001b[0m \u001b[0;34m=\u001b[0m \u001b[0mravel\u001b[0m\u001b[0;34m(\u001b[0m\u001b[0mvalues\u001b[0m\u001b[0;34m)\u001b[0m\u001b[0;34m\u001b[0m\u001b[0;34m\u001b[0m\u001b[0m\n\u001b[1;32m   4670\u001b[0m         \u001b[0maxis\u001b[0m \u001b[0;34m=\u001b[0m \u001b[0marr\u001b[0m\u001b[0;34m.\u001b[0m\u001b[0mndim\u001b[0m\u001b[0;34m-\u001b[0m\u001b[0;36m1\u001b[0m\u001b[0;34m\u001b[0m\u001b[0;34m\u001b[0m\u001b[0m\n\u001b[0;32m-> 4671\u001b[0;31m     \u001b[0;32mreturn\u001b[0m \u001b[0mconcatenate\u001b[0m\u001b[0;34m(\u001b[0m\u001b[0;34m(\u001b[0m\u001b[0marr\u001b[0m\u001b[0;34m,\u001b[0m \u001b[0mvalues\u001b[0m\u001b[0;34m)\u001b[0m\u001b[0;34m,\u001b[0m \u001b[0maxis\u001b[0m\u001b[0;34m=\u001b[0m\u001b[0maxis\u001b[0m\u001b[0;34m)\u001b[0m\u001b[0;34m\u001b[0m\u001b[0;34m\u001b[0m\u001b[0m\n\u001b[0m\u001b[1;32m   4672\u001b[0m \u001b[0;34m\u001b[0m\u001b[0m\n\u001b[1;32m   4673\u001b[0m \u001b[0;34m\u001b[0m\u001b[0m\n",
      "\u001b[0;32m<__array_function__ internals>\u001b[0m in \u001b[0;36mconcatenate\u001b[0;34m(*args, **kwargs)\u001b[0m\n",
      "\u001b[0;31mValueError\u001b[0m: all the input arrays must have same number of dimensions, but the array at index 0 has 1 dimension(s) and the array at index 1 has 2 dimension(s)"
     ]
    }
   ],
   "source": [
    "import numpy as np\n",
    "import pandas as pd\n",
    "# import tensorflow as tf\n",
    "# from sklearn.linear_model import LogisticRegression\n",
    "# from sklearn.preprocessing import MinMaxScaler\n",
    "# from sklearn.model_selection import train_test_split\n",
    "# from sklearn.neighbors import KNeighborsClassifier\n",
    "# from scipy import stats\n",
    "\n",
    "df = pd.read_csv('./test_data/output.csv', sep=',')\n",
    "\n",
    "\n",
    "\n",
    "# CSV파일 구조:\n",
    "# 45-1_001-C3 / 0 / 키포인트\n",
    "\n",
    "\n",
    "x_data = df[['Keypoints']]\n",
    "# t_data = df[['ID']]\n",
    "\n",
    "print(x_data)\n",
    "print(type(x_data))\n",
    "# action_no = x_data['Time']\n",
    "\n",
    "keypoint = x_data['Keypoints'].values\n",
    "\n",
    "# print(action_no[0])\n",
    "# print(type(action_no[0])) # <class 'str'>\n",
    "\n",
    "# action_no_split = action_no[0].split('-')\n",
    "# action = action_no_split[0]\n",
    "# print(action)\n",
    "\n",
    "print(keypoint[0])\n",
    "print(type(keypoint[0])) # <class 'str'>\n",
    "\n",
    "str_array = keypoint[0].replace(\"[\", \"\")\n",
    "str_array = str_array.replace(\"]\", \"\")\n",
    "str_array = str_array.split(',')\n",
    "\n",
    "nd_array = np.array(str_array)\n",
    "print(nd_array)\n",
    "\n",
    "nd_array = nd_array.astype(np.float)\n",
    "print(\"nd_array\")\n",
    "print(nd_array)\n",
    "\n",
    "nd_array = nd_array.reshape(-1, 3)\n",
    "# print(nd_array)\n",
    "result = np.delete(nd_array, 2, axis=1)\n",
    "# result = result.reshape(32)\n",
    "result = result.reshape(1,-1)\n",
    "print(result)\n",
    "print(result.shape)\n",
    "# print(type(result[0][0]))\n",
    "\n",
    "keypoint_arr = np.array([0])\n",
    "# keypoint_arr = keypoint_arr + result\n",
    "keypoint_arr = np.append(keypoint_arr, result, axis=0)\n",
    "# keypoint_arr = np.append(keypoint_arr, result, axis=0)\n",
    "print(keypoint_arr)"
   ]
  },
  {
   "cell_type": "code",
   "execution_count": 76,
   "id": "0b18128f",
   "metadata": {},
   "outputs": [],
   "source": [
    "def remove_aihub_annotation(keypoint):\n",
    "    # 학습데이터는 모두 2D데이터\n",
    "    # 따라서, 사용하지 않는 값 (_, _, 2)을 제거\n",
    "    keypoint = keypoint.reshape(-1, 3)\n",
    "    result = np.delete(keypoint, 2, axis=1)\n",
    "        # 실제 예측에서 사용할 수 없는 Annotation 제거\n",
    "    result = np.delete(result, [6,7,8], axis=0)\n",
    "    result = result.reshape(1,-1)\n",
    "    \n",
    "    return result"
   ]
  },
  {
   "cell_type": "code",
   "execution_count": 78,
   "id": "cb828980",
   "metadata": {},
   "outputs": [
    {
     "name": "stdout",
     "output_type": "stream",
     "text": [
      "[0. 0. 0. 0. 0. 0. 0. 0. 0. 0. 0. 0. 0. 0. 0. 0. 0. 0. 0. 0. 0. 0. 0. 0.\n",
      " 0. 0. 0. 0. 0. 0. 0. 0. 0. 0. 0. 0. 0. 0. 0. 0. 0. 0. 0. 0. 0. 0. 0. 0.\n",
      " 0. 0. 0. 0. 0. 0. 0. 0. 0. 0. 0. 0. 0. 0. 0. 0. 0. 0. 0. 0. 0. 0. 0. 0.\n",
      " 0. 0. 0. 0. 0. 0. 0. 0. 0. 0. 0. 0. 0. 0. 0. 0. 0. 0. 0. 0. 0. 0. 0. 0.]\n",
      "(96,)\n",
      "96\n",
      "<class 'numpy.ndarray'>\n",
      "[[ 960.   585.   969.  ...  414.   960.   411. ]\n",
      " [1252.   664.  1256.  ...  507.  1202.   515. ]\n",
      " [ 928.   654.   944.  ...  469.   943.   464. ]\n",
      " ...\n",
      " [ 786.   613.   731.5 ...  437.   807.   486. ]\n",
      " [ 756.   635.   737.  ...  420.   745.   420. ]\n",
      " [ 830.   863.   834.  ...  597.   864.   639. ]]\n",
      "(96, 26)\n",
      "96\n",
      "[ 960.  585.  969.  519.  994.  455.  994.  459.  994.  525. 1035.  594.\n",
      "  985.  317.  972.  411.  988.  418.  997.  380.  988.  377.  978.  414.\n",
      "  960.  411.]\n",
      "<class 'numpy.ndarray'>\n"
     ]
    }
   ],
   "source": [
    "df = pd.read_csv('./test_data/output.csv', sep=',')\n",
    "\n",
    "KEYPOINT = 32\n",
    "KEYPOINT_MOD = 26\n",
    "\n",
    "# CSV파일 구조:\n",
    "# 45-1_001-C3 / 0 / 키포인트\n",
    "\n",
    "\n",
    "x_data = df[['Keypoints']]\n",
    "t_data = np.zeros(96,)\n",
    "print(t_data)\n",
    "# t_data = df[['ID']]\n",
    "\n",
    "keypoint = np.array(x_data['Keypoints'].values)\n",
    "keypoint_arr = np.empty((0,KEYPOINT_MOD), float)\n",
    "\n",
    "for i in range(0, len(keypoint)) :\n",
    "    keypoint[i] = keypoint[i].replace(\"[\", \"\")\n",
    "    keypoint[i] = keypoint[i].replace(\"]\", \"\")\n",
    "    keypoint[i] = keypoint[i].split(',')\n",
    "\n",
    "    # keypoint[0]\n",
    "    nd_array = np.array(keypoint[i])\n",
    "    nd_array = nd_array.astype(np.float)\n",
    "#     print(\"nd_array\")\n",
    "#     print(nd_array)\n",
    "\n",
    "    # 학습데이터는 모두 2D데이터\n",
    "    # 사용하지 않는 값과 사용할 수 없는 annotation을 제거\n",
    "    result = remove_aihub_annotation(nd_array)\n",
    "#     print(result)\n",
    "#     print(result.shape)\n",
    "#     print(type(result[0][0]))\n",
    "\n",
    "    keypoint_arr = np.append(keypoint_arr, result, axis=0)\n",
    "\n",
    "print(keypoint.shape)\n",
    "print(len(keypoint))\n",
    "    \n",
    "print(type(keypoint_arr))\n",
    "print(keypoint_arr)\n",
    "print(keypoint_arr.shape)\n",
    "print(len(keypoint_arr))\n",
    "print(keypoint_arr[0])\n",
    "print(type(keypoint_arr[0])) # <class 'str'>\n",
    "\n"
   ]
  },
  {
   "cell_type": "code",
   "execution_count": null,
   "id": "2b20d807",
   "metadata": {},
   "outputs": [],
   "source": [
    "import pandas as pd\n",
    "import numpy as np\n",
    "\n",
    "# train=pd.read_csv('train_features.csv')\n",
    "# train_labels=pd.read_csv('train_labels.csv')\n",
    "# test=pd.read_csv('test_features.csv')\n",
    "# submission=pd.read_csv('sample_submission.csv')"
   ]
  },
  {
   "cell_type": "code",
   "execution_count": null,
   "id": "0ee99139",
   "metadata": {},
   "outputs": [],
   "source": [
    "## for drawing graph\n",
    "\n",
    "# fig = plt.figure()\n",
    "\n",
    "# ax = list()\n",
    "\n",
    "# for i in range(10):\n",
    "#     ax.append(fig.add_subplot(2,5,i+1))  # 2행 5열의 subplot을 만들어서 ax(list)안에 subplot을 저장\n",
    "#     ax[i].imshow(img_data[i].reshape(28,28), cmap='gray')\n",
    "\n",
    "result_xy = result.reshape(-1,2)\n",
    "x,y = zip(*result_xy)\n",
    "\n",
    "# plt.plot(result, 'ro')\n",
    "# fig.axis([])\n",
    "# plt.tight_layout()\n",
    "plt.scatter(x,y)\n",
    "plt.show()\n"
   ]
  },
  {
   "cell_type": "code",
   "execution_count": null,
   "id": "1a9640ef",
   "metadata": {},
   "outputs": [],
   "source": [
    "import tensorflow as tf\n",
    "from keras.models import Sequential\n",
    "from keras.layers import Dense, LSTM"
   ]
  },
  {
   "cell_type": "code",
   "execution_count": null,
   "id": "c5ac87ca",
   "metadata": {},
   "outputs": [],
   "source": [
    "import easydict\n",
    " \n",
    "args = easydict.EasyDict({\n",
    "        \"batchsize\": 128,\n",
    "        \"epoch\": 38,\n",
    "#         \"gpu\": 0,\n",
    "        \"out\": \"result\",\n",
    "        \"resume\": False,\n",
    "#         \"unit\": 1000,\n",
    "        \"validationsplit\": 0.2,\n",
    "        \"optimizer\": \"rmsprop\",\n",
    "#         \"optimizer\": \"Adam\",\n",
    "        \n",
    "})"
   ]
  },
  {
   "cell_type": "code",
   "execution_count": null,
   "id": "a99e1713",
   "metadata": {},
   "outputs": [],
   "source": [
    "# [ -1, (한번에 들어갈 입력값 수), (좌표개수) ]\n",
    "# 13개의 x,y 좌표이므로 26개\n",
    "X=tf.reshape(np.array(train.iloc[:,2:]),[-1, 19, 26])\n",
    "X.shape"
   ]
  },
  {
   "cell_type": "code",
   "execution_count": null,
   "id": "f7f31bda",
   "metadata": {},
   "outputs": [],
   "source": [
    "y = tf.keras.utils.to_categorical(train_labels['label']) \n",
    "y.shape"
   ]
  },
  {
   "cell_type": "code",
   "execution_count": null,
   "id": "ec20df13",
   "metadata": {},
   "outputs": [],
   "source": [
    "#가벼운 모델 생성\n",
    "model = Sequential()\n",
    "model.add(LSTM(32, input_shape=(19,26)))\n",
    "model.add(Dense(128, activation='relu'))\n",
    "# model.add(Dense(61, activation='softmax')) # 다중 분류\n",
    "model.add(Dense(61, activation='sigmoid'))\n",
    "\n",
    "# Adam 최적화함수를 사용해보는 것도 고려해볼 것\n",
    "# model.compile(optimizer='rmsprop', loss='categorical_crossentropy', metrics=['accuracy']) # 다중 분류\n",
    "model.compile(optimizer=args.optimizer, loss='binary_crossentropy', metrics=['accuracy'])"
   ]
  },
  {
   "cell_type": "code",
   "execution_count": null,
   "id": "4387fad7",
   "metadata": {},
   "outputs": [],
   "source": [
    "model.fit(X,y, epochs=args.epoch, batch_size=args.batchsize, validation_split=0.2)"
   ]
  },
  {
   "cell_type": "code",
   "execution_count": null,
   "id": "b41807bd",
   "metadata": {},
   "outputs": [],
   "source": [
    "test_X=tf.reshape(np.array(test.iloc[:,2:]),[-1, 19, 26])\n",
    "test_X.shape"
   ]
  },
  {
   "cell_type": "code",
   "execution_count": null,
   "id": "205b7902",
   "metadata": {},
   "outputs": [],
   "source": [
    "prediction=model.predict(test_X)"
   ]
  },
  {
   "cell_type": "code",
   "execution_count": null,
   "id": "dd13e1d8",
   "metadata": {},
   "outputs": [],
   "source": [
    "prediction.shape"
   ]
  },
  {
   "cell_type": "code",
   "execution_count": null,
   "id": "da5c7985",
   "metadata": {},
   "outputs": [],
   "source": []
  },
  {
   "cell_type": "code",
   "execution_count": null,
   "id": "aa1e8719",
   "metadata": {},
   "outputs": [],
   "source": []
  },
  {
   "cell_type": "code",
   "execution_count": null,
   "id": "81484b91",
   "metadata": {},
   "outputs": [],
   "source": []
  },
  {
   "cell_type": "code",
   "execution_count": null,
   "id": "b90c77da",
   "metadata": {},
   "outputs": [],
   "source": []
  }
 ],
 "metadata": {
  "kernelspec": {
   "display_name": "Python [conda env:data_env24] *",
   "language": "python",
   "name": "conda-env-data_env24-py"
  },
  "language_info": {
   "codemirror_mode": {
    "name": "ipython",
    "version": 3
   },
   "file_extension": ".py",
   "mimetype": "text/x-python",
   "name": "python",
   "nbconvert_exporter": "python",
   "pygments_lexer": "ipython3",
   "version": "3.7.11"
  }
 },
 "nbformat": 4,
 "nbformat_minor": 5
}
